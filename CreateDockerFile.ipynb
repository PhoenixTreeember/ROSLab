{
 "cells": [
  {
   "cell_type": "code",
   "execution_count": null,
   "metadata": {
    "scrolled": false
   },
   "outputs": [],
   "source": [
    "from ipywidgets import Layout, Button, Box, HBox, Text, Textarea, Dropdown, Output, Accordion"
   ]
  },
  {
   "cell_type": "code",
   "execution_count": null,
   "metadata": {
    "scrolled": false
   },
   "outputs": [],
   "source": [
    "def on_value_change(change):\n",
    "    out.clear_output()"
   ]
  },
  {
   "cell_type": "code",
   "execution_count": null,
   "metadata": {
    "scrolled": false
   },
   "outputs": [],
   "source": [
    "def on_ubuntu_change(change):\n",
    "    out.clear_output()\n",
    "    if change['new']=='16.04':\n",
    "        ros.options=['none', 'kinetic-ros-core', 'kinetic-ros-base', 'kinetic-robot', \n",
    "                     'kinetic-perception', 'kinetic-desktop', 'kinetic-desktop-full']\n",
    "        cuda.options=['none', '8.0-runtime', '8.0-devel', '9.0-runtime', '9.0-devel', \n",
    "                      '10.0-runtime', '10.0-devel']\n",
    "        cudnn.options=['none', '5-runtime', '5-devel', '6-runtime', '6-devel', '7-runtime', '7-devel']\n",
    "    elif change['new']=='18.04':\n",
    "        ros.options=['none', 'melodic-ros-core', 'melodic-ros-base', 'melodic-robot', \n",
    "                 'melodic-perception', 'melodic-desktop', 'melodic-desktop-full']\n",
    "        cuda.options=['none', '9.2-runtime', '9.2-devel', '10.0-runtime', '10.0-devel']\n",
    "        cudnn.options=['none', '7-runtime', '7-devel']"
   ]
  },
  {
   "cell_type": "code",
   "execution_count": null,
   "metadata": {
    "scrolled": false
   },
   "outputs": [],
   "source": [
    "def on_cuda_change(change):\n",
    "    out.clear_output()\n",
    "    if change['new']=='8.0-runtime' or change['new']=='8.0-devel':\n",
    "        cudnn.options=['none', '5-runtime', '5-devel', '6-runtime', '6-devel', '7-runtime', '7-devel']\n",
    "    else:\n",
    "        cudnn.options=['none', '7-runtime', '7-devel']"
   ]
  },
  {
   "cell_type": "code",
   "execution_count": null,
   "metadata": {
    "scrolled": false
   },
   "outputs": [],
   "source": [
    "name = Text(\n",
    "    value='',\n",
    "    placeholder='name of the Docker image',\n",
    "    description='Name:',\n",
    "    disabled=False\n",
    ")\n",
    "name.observe(on_value_change, names='value')"
   ]
  },
  {
   "cell_type": "code",
   "execution_count": null,
   "metadata": {
    "scrolled": false
   },
   "outputs": [],
   "source": [
    "ubuntu = Dropdown(\n",
    "    options=['16.04', '18.04'],\n",
    "    value='16.04',\n",
    "    description='Ubuntu:',\n",
    "    disabled=False\n",
    ")\n",
    "ubuntu.observe(on_ubuntu_change, names='value')"
   ]
  },
  {
   "cell_type": "code",
   "execution_count": null,
   "metadata": {
    "scrolled": false
   },
   "outputs": [],
   "source": [
    "opengl = Dropdown(\n",
    "    options=['none', 'runtime', 'devel'],\n",
    "    value='none',\n",
    "    description='OpenGL:',\n",
    "    disabled=False\n",
    ")\n",
    "opengl.observe(on_value_change, names='value')"
   ]
  },
  {
   "cell_type": "code",
   "execution_count": null,
   "metadata": {
    "scrolled": false
   },
   "outputs": [],
   "source": [
    "cuda = Dropdown(\n",
    "    options=['none', '8.0-runtime', '8.0-devel', '9.0-runtime', '9.0-devel', '10.0-runtime', '10.0-devel'],\n",
    "    value='none',\n",
    "    description='CUDA:',\n",
    "    disabled=False\n",
    ")\n",
    "cuda.observe(on_cuda_change, names='value')"
   ]
  },
  {
   "cell_type": "code",
   "execution_count": null,
   "metadata": {
    "scrolled": false
   },
   "outputs": [],
   "source": [
    "cudnn = Dropdown(\n",
    "    options=['none', '5-runtime', '5-devel', '6-runtime', '6-devel', \n",
    "             '7-runtime', '7-devel'],\n",
    "    value='none',\n",
    "    description='cuDNN:',\n",
    "    disabled=False\n",
    ")\n",
    "cudnn.observe(on_value_change, names='value')"
   ]
  },
  {
   "cell_type": "code",
   "execution_count": null,
   "metadata": {
    "scrolled": false
   },
   "outputs": [],
   "source": [
    "ros = Dropdown(\n",
    "    options=['none', 'kinetic-ros-core', 'kinetic-ros-base', 'kinetic-robot', \n",
    "             'kinetic-perception', 'kinetic-desktop', 'kinetic-desktop-full'],\n",
    "    value='none',\n",
    "    description='ROS:',\n",
    "    disabled=False\n",
    ")\n",
    "ros.observe(on_value_change, names='value')"
   ]
  },
  {
   "cell_type": "code",
   "execution_count": null,
   "metadata": {
    "scrolled": false
   },
   "outputs": [],
   "source": [
    "build = Dropdown(\n",
    "    options=['none', 'cmake', 'catkin_make', 'catkin_build'],\n",
    "    value='none',\n",
    "    description='Build:',\n",
    "    disabled=False\n",
    ")\n",
    "build.observe(on_value_change, names='value')"
   ]
  },
  {
   "cell_type": "code",
   "execution_count": null,
   "metadata": {
    "scrolled": false
   },
   "outputs": [],
   "source": [
    "apt = Textarea(\n",
    "    value='',\n",
    "    placeholder='List of APT packages\\n(one package per line)',\n",
    "    description='APT:',\n",
    "    disabled=False\n",
    ")\n",
    "apt.observe(on_value_change, names='value')"
   ]
  },
  {
   "cell_type": "code",
   "execution_count": null,
   "metadata": {
    "scrolled": false
   },
   "outputs": [],
   "source": [
    "pip2 = Textarea(\n",
    "    value='',\n",
    "    placeholder='List of Python 2 packages\\n(one package per line)',\n",
    "    description='pip2:',\n",
    "    disabled=False\n",
    ")\n",
    "pip2.observe(on_value_change, names='value')"
   ]
  },
  {
   "cell_type": "code",
   "execution_count": null,
   "metadata": {
    "scrolled": false
   },
   "outputs": [],
   "source": [
    "pip3 = Textarea(\n",
    "    value='',\n",
    "    placeholder='List of Python 3 packages\\n(one package per line)',\n",
    "    description='pip3:',\n",
    "    disabled=False\n",
    ")\n",
    "pip3.observe(on_value_change, names='value')"
   ]
  },
  {
   "cell_type": "code",
   "execution_count": null,
   "metadata": {
    "scrolled": false
   },
   "outputs": [],
   "source": [
    "custom = Textarea(\n",
    "    value='',\n",
    "    placeholder='List of custom commands\\n(one command per line)',\n",
    "    description='custom:',\n",
    "    disabled=False\n",
    ")\n",
    "custom.observe(on_value_change, names='value')"
   ]
  },
  {
   "cell_type": "code",
   "execution_count": null,
   "metadata": {
    "scrolled": false
   },
   "outputs": [],
   "source": [
    "matlab = Text(\n",
    "    value='',\n",
    "    placeholder='path in the local host',\n",
    "    description='MATLAB:',\n",
    "    disabled=False\n",
    ")\n",
    "matlab.observe(on_value_change, names='value')"
   ]
  },
  {
   "cell_type": "code",
   "execution_count": null,
   "metadata": {
    "scrolled": false
   },
   "outputs": [],
   "source": [
    "import os, yaml\n",
    "from roslab_create import write_docker_file\n",
    "from IPython.core.display import display, HTML\n",
    "from IPython.display import clear_output\n",
    "\n",
    "def generate_dockerfile(b):\n",
    "    out.clear_output()\n",
    "    with out:\n",
    "        if name.value is '':\n",
    "            print('Error: name is empty!')\n",
    "        else:\n",
    "            print(\"Generating Dockerfile...\")\n",
    "            base = {'ubuntu': ubuntu.value}\n",
    "            if not opengl.value is 'none':\n",
    "                base['opengl'] = opengl.value\n",
    "            if not cuda.value is 'none':\n",
    "                base['cuda'] = cuda.value\n",
    "            if not cudnn.value is 'none':\n",
    "                base['cudnn'] = cudnn.value\n",
    "            if not ros.value is 'none':\n",
    "                base['ros'] = ros.value\n",
    "            data = {'name': name.value, 'base': base}\n",
    "            if not build.value is 'none':\n",
    "                data['build'] = build.value\n",
    "            if not apt.value is '':\n",
    "                data['apt'] = apt.value.splitlines()\n",
    "            if not pip2.value is '':\n",
    "                data['pip'] = pip2.value.splitlines()\n",
    "            if not pip3.value is '':\n",
    "                data['pip3'] = pip3.value.splitlines()\n",
    "            if not custom.value is '':\n",
    "                data['custom'] = custom.value.splitlines()\n",
    "            if not matlab.value is '':\n",
    "                data['matlab'] = {}\n",
    "                data['matlab']['host_path'] = matlab.value()\n",
    "            if len(source_list.children) > 0:\n",
    "                data['source'] = []\n",
    "                for sp in source_list.children:\n",
    "                    source_name = sp.children[0].value\n",
    "                    repo = sp.children[1].value\n",
    "                    if source_name != '' and repo != '':\n",
    "                        depends = sp.children[2].value.splitlines()\n",
    "                        source_build = sp.children[3].value\n",
    "                        data['source'].append({'name':source_name, 'repo':repo, 'depends':depends, 'build':source_build})\n",
    "                    else:\n",
    "                        print('Ignoring source package with empty name and/or repo')\n",
    "            with open('roslab.yaml', 'w') as outfile:\n",
    "                yaml.dump(data, outfile, default_flow_style=False)\n",
    "            write_docker_file(data)\n",
    "            print('Done!')\n",
    "            os.rename('roslab.dockerfile', 'Dockerfile')\n",
    "            display(HTML('<p>It can be downloaded <a href=\"Dockerfile\" target=\"_blank\">from here</a>.</p>'))"
   ]
  },
  {
   "cell_type": "code",
   "execution_count": null,
   "metadata": {
    "scrolled": false
   },
   "outputs": [],
   "source": [
    "generate = Button(\n",
    "    description='Proceed',\n",
    "    disabled=False,\n",
    "    button_style='', # 'success', 'info', 'warning', 'danger' or ''\n",
    "    tooltip='Generate Dockerfile'\n",
    ")\n",
    "generate.on_click(generate_dockerfile)"
   ]
  },
  {
   "cell_type": "code",
   "execution_count": null,
   "metadata": {},
   "outputs": [],
   "source": [
    "def add_source_item(b):\n",
    "    name = Text(\n",
    "        value='',\n",
    "        placeholder='name of source package',\n",
    "        description='Name:',\n",
    "        disabled=False\n",
    "    )\n",
    "    name.observe(on_value_change, names='value')\n",
    "    repo = Text(\n",
    "        value='',\n",
    "        placeholder='URL of git repository',\n",
    "        description='repo:',\n",
    "        disabled=False\n",
    "    )\n",
    "    repo.observe(on_value_change, names='value')\n",
    "    depends = Textarea(\n",
    "        value='',\n",
    "        placeholder='List of APT packages\\n(one package per line)',\n",
    "        description='depends:',\n",
    "        disabled=False\n",
    "    )\n",
    "    depends.observe(on_value_change, names='value')\n",
    "    build = Dropdown(\n",
    "        options=['cmake', 'catkin_make', 'catkin_build'],\n",
    "        value='cmake',\n",
    "        description='build:',\n",
    "        disabled=False\n",
    "    )\n",
    "    build.observe(on_value_change, names='value')\n",
    "    source_items = [name, repo, depends, build]\n",
    "    source_form = Box(source_items, layout=Layout(\n",
    "        display='flex',\n",
    "        flex_flow='column',\n",
    "        #border='solid 1px',\n",
    "        align_items='stretch'\n",
    "    ))\n",
    "    source_list.children += (source_form,)\n",
    "    n = len(source_list.children)\n",
    "    source_list.set_title(n-1, 'Source package %d' % n)"
   ]
  },
  {
   "cell_type": "code",
   "execution_count": null,
   "metadata": {
    "scrolled": false
   },
   "outputs": [],
   "source": [
    "add_source = Button(\n",
    "    description='Add source package',\n",
    "    disabled=False,\n",
    "    button_style='', # 'success', 'info', 'warning', 'danger' or ''\n",
    "    tooltip='Add source package'\n",
    ")\n",
    "add_source.on_click(add_source_item)\n",
    "\n",
    "source_list = Accordion(children=[])"
   ]
  },
  {
   "cell_type": "code",
   "execution_count": null,
   "metadata": {
    "scrolled": false
   },
   "outputs": [],
   "source": [
    "out = Output()"
   ]
  },
  {
   "cell_type": "code",
   "execution_count": null,
   "metadata": {
    "scrolled": false
   },
   "outputs": [],
   "source": [
    "form_item_layout = Layout(\n",
    "    display='flex',\n",
    "    flex_flow='row',\n",
    "    justify_content='space-between'\n",
    ")\n",
    "\n",
    "left_items = [name, ubuntu, opengl, cuda, cudnn, ros, build, generate, out]\n",
    "mid_items = [apt, pip2, pip3, custom, matlab]\n",
    "right_items = [add_source, source_list]\n",
    "\n",
    "left_form = Box(left_items, layout=Layout(\n",
    "    display='flex',\n",
    "    flex_flow='column',\n",
    "    #border='solid 1px',\n",
    "    align_items='stretch',\n",
    "    width='32%'\n",
    "))\n",
    "mid_form = Box(mid_items, layout=Layout(\n",
    "    display='flex',\n",
    "    flex_flow='column',\n",
    "    #border='solid 1px',\n",
    "    align_items='stretch',\n",
    "    width='32%'\n",
    "))\n",
    "right_form = Box(right_items, layout=Layout(\n",
    "    display='flex',\n",
    "    flex_flow='column',\n",
    "    #border='solid 1px',\n",
    "    align_items='stretch',\n",
    "    width='36%'\n",
    "))\n",
    "out.clear_output()\n",
    "HBox([left_form, mid_form, right_form])"
   ]
  },
  {
   "cell_type": "code",
   "execution_count": null,
   "metadata": {},
   "outputs": [],
   "source": []
  }
 ],
 "metadata": {
  "kernelspec": {
   "display_name": "Python 3",
   "language": "python",
   "name": "python3"
  },
  "language_info": {
   "codemirror_mode": {
    "name": "ipython",
    "version": 3
   },
   "file_extension": ".py",
   "mimetype": "text/x-python",
   "name": "python",
   "nbconvert_exporter": "python",
   "pygments_lexer": "ipython3",
   "version": "3.7.3"
  }
 },
 "nbformat": 4,
 "nbformat_minor": 2
}
