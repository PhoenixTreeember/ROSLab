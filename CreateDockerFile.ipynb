{
 "cells": [
  {
   "cell_type": "code",
   "execution_count": null,
   "metadata": {
    "scrolled": false
   },
   "outputs": [],
   "source": [
    "from ipywidgets import Layout, Button, Box, HBox, Text, Textarea, Dropdown, Output"
   ]
  },
  {
   "cell_type": "code",
   "execution_count": null,
   "metadata": {
    "scrolled": false
   },
   "outputs": [],
   "source": [
    "def on_value_change(change):\n",
    "    out.clear_output()"
   ]
  },
  {
   "cell_type": "code",
   "execution_count": null,
   "metadata": {
    "scrolled": false
   },
   "outputs": [],
   "source": [
    "name = Text(\n",
    "    value='',\n",
    "    placeholder='name of the Docker image',\n",
    "    description='Name:',\n",
    "    disabled=False\n",
    ")\n",
    "name.observe(on_value_change, names='value')"
   ]
  },
  {
   "cell_type": "code",
   "execution_count": null,
   "metadata": {
    "scrolled": false
   },
   "outputs": [],
   "source": [
    "ubuntu = Dropdown(\n",
    "    options=['16.04', '18.04'],\n",
    "    value='16.04',\n",
    "    description='Ubuntu:',\n",
    "    disabled=False,\n",
    ")\n",
    "ubuntu.observe(on_value_change, names='value')"
   ]
  },
  {
   "cell_type": "code",
   "execution_count": null,
   "metadata": {
    "scrolled": false
   },
   "outputs": [],
   "source": [
    "opengl = Dropdown(\n",
    "    options=['none', 'runtime', 'devel'],\n",
    "    value='none',\n",
    "    description='OpenGL:',\n",
    "    disabled=False,\n",
    ")\n",
    "opengl.observe(on_value_change, names='value')"
   ]
  },
  {
   "cell_type": "code",
   "execution_count": null,
   "metadata": {
    "scrolled": false
   },
   "outputs": [],
   "source": [
    "cuda = Dropdown(\n",
    "    options=['none', '8.0-runtime', '8.0-devel', '9.0-runtime', '9.0-devel', \n",
    "             '9.2-runtime', '9.2-devel', '10.0-runtime', '10.0-devel'],\n",
    "    value='none',\n",
    "    description='CUDA:',\n",
    "    disabled=False,\n",
    ")\n",
    "cuda.observe(on_value_change, names='value')"
   ]
  },
  {
   "cell_type": "code",
   "execution_count": null,
   "metadata": {
    "scrolled": false
   },
   "outputs": [],
   "source": [
    "cudnn = Dropdown(\n",
    "    options=['none', '5-runtime', '5-devel', '6-runtime', '6-devel', \n",
    "             '7-runtime', '7-devel'],\n",
    "    value='none',\n",
    "    description='cuDNN:',\n",
    "    disabled=False,\n",
    ")\n",
    "cudnn.observe(on_value_change, names='value')"
   ]
  },
  {
   "cell_type": "code",
   "execution_count": null,
   "metadata": {
    "scrolled": false
   },
   "outputs": [],
   "source": [
    "ros = Dropdown(\n",
    "    options=['none', 'kinetic-ros-core', 'kinetic-ros-base', 'kinetic-robot', 'kinetic-perception',\n",
    "             'kinetic-desktop', 'kinetic-desktop-full', 'melodic-ros-core', 'melodic-ros-base', \n",
    "             'melodic-robot', 'melodic-perception', 'melodic-desktop', 'melodic-desktop-full'],\n",
    "    value='none',\n",
    "    description='ROS:',\n",
    "    disabled=False,\n",
    ")\n",
    "ros.observe(on_value_change, names='value')"
   ]
  },
  {
   "cell_type": "code",
   "execution_count": null,
   "metadata": {
    "scrolled": false
   },
   "outputs": [],
   "source": [
    "build = Dropdown(\n",
    "    options=['none', 'cmake', 'catkin_make', 'catkin_build'],\n",
    "    value='none',\n",
    "    description='Build:',\n",
    "    disabled=False,\n",
    ")\n",
    "build.observe(on_value_change, names='value')"
   ]
  },
  {
   "cell_type": "code",
   "execution_count": null,
   "metadata": {
    "scrolled": false
   },
   "outputs": [],
   "source": [
    "apt = Textarea(\n",
    "    value='',\n",
    "    placeholder='List of APT packages\\n(one package per line)',\n",
    "    description='APT:',\n",
    "    disabled=False\n",
    ")\n",
    "apt.observe(on_value_change, names='value')"
   ]
  },
  {
   "cell_type": "code",
   "execution_count": null,
   "metadata": {
    "scrolled": false
   },
   "outputs": [],
   "source": [
    "pip2 = Textarea(\n",
    "    value='',\n",
    "    placeholder='List of Python 2 packages\\n(one package per line)',\n",
    "    description='pip2:',\n",
    "    disabled=False\n",
    ")\n",
    "pip2.observe(on_value_change, names='value')"
   ]
  },
  {
   "cell_type": "code",
   "execution_count": null,
   "metadata": {
    "scrolled": false
   },
   "outputs": [],
   "source": [
    "pip3 = Textarea(\n",
    "    value='',\n",
    "    placeholder='List of Python 3 packages\\n(one package per line)',\n",
    "    description='pip3:',\n",
    "    disabled=False\n",
    ")\n",
    "pip3.observe(on_value_change, names='value')"
   ]
  },
  {
   "cell_type": "code",
   "execution_count": null,
   "metadata": {
    "scrolled": false
   },
   "outputs": [],
   "source": [
    "matlab = Text(\n",
    "    value='',\n",
    "    placeholder='path in the local host',\n",
    "    description='MATLAB:',\n",
    "    disabled=False\n",
    ")\n",
    "matlab.observe(on_value_change, names='value')"
   ]
  },
  {
   "cell_type": "code",
   "execution_count": null,
   "metadata": {
    "scrolled": false
   },
   "outputs": [],
   "source": [
    "import os, yaml\n",
    "from roslab_create import write_docker_file\n",
    "from IPython.core.display import display, HTML\n",
    "from IPython.display import clear_output\n",
    "\n",
    "def generate_dockerfile(b):\n",
    "    out.clear_output()\n",
    "    with out:\n",
    "        if name.value is '':\n",
    "            print('Error: name is empty!')\n",
    "        else:\n",
    "            print(\"Generating Dockerfile...\")\n",
    "            base = {'ubuntu': ubuntu.value}\n",
    "            if not opengl.value is 'none':\n",
    "                base['opengl'] = opengl.value\n",
    "            if not cuda.value is 'none':\n",
    "                base['cuda'] = cuda.value\n",
    "            if not cudnn.value is 'none':\n",
    "                base['cudnn'] = cudnn.value\n",
    "            if not ros.value is 'none':\n",
    "                base['ros'] = ros.value\n",
    "            data = {'name': name.value, 'base': base}\n",
    "            if not build.value is 'none':\n",
    "                data['build'] = build.value\n",
    "            if not apt.value is '':\n",
    "                data['apt'] = apt.value.splitlines()\n",
    "            if not pip2.value is '':\n",
    "                data['pip'] = pip2.value.splitlines()\n",
    "            if not pip3.value is '':\n",
    "                data['pip3'] = pip3.value.splitlines()\n",
    "            if not matlab.value is '':\n",
    "                data['matlab'] = {}\n",
    "                data['matlab']['host_path'] = matlab.value()\n",
    "            with open('roslab.yaml', 'w') as outfile:\n",
    "                yaml.dump(data, outfile, default_flow_style=False)\n",
    "            write_docker_file(data)\n",
    "            print('Done!')\n",
    "            os.rename('roslab.dockerfile', 'Dockerfile')\n",
    "            display(HTML('<p>It can be downloaded <a href=\"Dockerfile\" target=\"_blank\">from here</a>.</p>'))"
   ]
  },
  {
   "cell_type": "code",
   "execution_count": null,
   "metadata": {
    "scrolled": false
   },
   "outputs": [],
   "source": [
    "generate = Button(\n",
    "    description='Proceed',\n",
    "    disabled=False,\n",
    "    button_style='', # 'success', 'info', 'warning', 'danger' or ''\n",
    "    tooltip='Generate Dockerfile'\n",
    ")\n",
    "generate.on_click(generate_dockerfile)"
   ]
  },
  {
   "cell_type": "code",
   "execution_count": null,
   "metadata": {
    "scrolled": false
   },
   "outputs": [],
   "source": [
    "out = Output()"
   ]
  },
  {
   "cell_type": "code",
   "execution_count": null,
   "metadata": {
    "scrolled": false
   },
   "outputs": [],
   "source": [
    "form_item_layout = Layout(\n",
    "    display='flex',\n",
    "    flex_flow='row',\n",
    "    justify_content='space-between'\n",
    ")\n",
    "\n",
    "left_items = [name, ubuntu, opengl, cuda, cudnn, ros, build, generate, out]\n",
    "right_items = [apt, pip2, pip3, matlab]\n",
    "\n",
    "left_form = Box(left_items, layout=Layout(\n",
    "    display='flex',\n",
    "    flex_flow='column',\n",
    "    #border='solid 1px',\n",
    "    align_items='stretch',\n",
    "    width='33%'\n",
    "))\n",
    "right_form = Box(right_items, layout=Layout(\n",
    "    display='flex',\n",
    "    flex_flow='column',\n",
    "    #border='solid 1px',\n",
    "    align_items='stretch',\n",
    "    width='33%'\n",
    "))\n",
    "out.clear_output()\n",
    "HBox([left_form, right_form])"
   ]
  },
  {
   "cell_type": "code",
   "execution_count": null,
   "metadata": {},
   "outputs": [],
   "source": []
  }
 ],
 "metadata": {
  "kernelspec": {
   "display_name": "Python 3",
   "language": "python",
   "name": "python3"
  },
  "language_info": {
   "codemirror_mode": {
    "name": "ipython",
    "version": 3
   },
   "file_extension": ".py",
   "mimetype": "text/x-python",
   "name": "python",
   "nbconvert_exporter": "python",
   "pygments_lexer": "ipython3",
   "version": "3.7.3"
  }
 },
 "nbformat": 4,
 "nbformat_minor": 2
}
