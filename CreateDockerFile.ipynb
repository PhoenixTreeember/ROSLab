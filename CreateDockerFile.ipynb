{
 "cells": [
  {
   "cell_type": "markdown",
   "metadata": {},
   "source": [
    "## ROSLab: <u>RO</u>botics <u>S</u>oftware with Jupyter<u>Lab</u>\n",
    "ROSLab is a [JupyterLab](https://jupyterlab.readthedocs.io/en/stable/)\n",
    "environment for a source code repository with robotics software. \n",
    "It automatically creates a [Dockerfile](https://docs.docker.com/engine/reference/builder/) from a simple UI form.\n",
    "\n",
    "Please select the cell below and press simultaneously `Ctrl+Enter`. Then fill in the form fields, and press the `Proceed` button."
   ]
  },
  {
   "cell_type": "code",
   "execution_count": null,
   "metadata": {},
   "outputs": [],
   "source": [
    "import form\n",
    "form.ui"
   ]
  }
 ],
 "metadata": {
  "kernelspec": {
   "display_name": "Python 3",
   "language": "python",
   "name": "python3"
  },
  "language_info": {
   "codemirror_mode": {
    "name": "ipython",
    "version": 3
   },
   "file_extension": ".py",
   "mimetype": "text/x-python",
   "name": "python",
   "nbconvert_exporter": "python",
   "pygments_lexer": "ipython3",
   "version": "3.7.3"
  }
 },
 "nbformat": 4,
 "nbformat_minor": 2
}
