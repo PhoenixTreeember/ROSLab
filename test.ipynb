{
 "cells": [
  {
   "cell_type": "markdown",
   "metadata": {},
   "source": [
    "# MRSL Jump Point Search Planning Library\n",
    "[![Travis CI Build Status](https://travis-ci.org/ICRA2017/jps3d.svg?branch=reproducible)](https://travis-ci.org/ICRA2017/jps3d)\n",
    "[![Docker Build Status](https://dockerbuildbadges.quelltext.eu/status.svg?organization=icra2017&repository=jps3d)](https://hub.docker.com/r/icra2017/jps3d/builds/) \n",
    "- - -\n",
    "Jump Point Search for path planning in both 2D and 3D environments. Original jump point seach algorithm is proposed in [\"D. Harabor and A. Grastien. Online Graph Pruning for Pathfinding on Grid Maps. In National Conference on Artificial Intelligence (AAAI), 2011\"](https://www.aaai.org/ocs/index.php/AAAI/AAAI11/paper/download/3761/4007). The 3D version is proposed in [\"S. Liu, M. Watterson, K. Mohta, K. Sun, S. Bhattacharya, C.J. Taylor and V. Kumar. Planning Dynamically Feasible Trajectories for Quadrotors using Safe Flight Corridors in 3-D Complex Environments. ICRA 2017\"](http://ieeexplore.ieee.org/abstract/document/7839930/). \n",
    "\n",
    "## Installation \n",
    "#### Required: \n",
    " - Eigen3\n",
    " - yaml-cpp\n",
    "\n",
    "Simply run following commands to install dependancy:"
   ]
  },
  {
   "cell_type": "code",
   "execution_count": null,
   "metadata": {
    "attributes": {
     "classes": [
      "sh"
     ],
     "id": ""
    }
   },
   "outputs": [],
   "source": [
    "$ sudo apt update\n",
    "$ sudo apt install -y libeigen3-dev libyaml-cpp-dev libboost-dev cmake"
   ]
  },
  {
   "cell_type": "markdown",
   "metadata": {},
   "source": [
    "#### A) Simple cmake"
   ]
  },
  {
   "cell_type": "code",
   "execution_count": null,
   "metadata": {
    "attributes": {
     "classes": [
      "sh"
     ],
     "id": ""
    }
   },
   "outputs": [],
   "source": [
    "$ mkdir build && cd build && cmake .. && make -j4"
   ]
  },
  {
   "cell_type": "markdown",
   "metadata": {},
   "source": [
    "#### B) Using CATKIN"
   ]
  },
  {
   "cell_type": "code",
   "execution_count": null,
   "metadata": {
    "attributes": {
     "classes": [
      "sh"
     ],
     "id": ""
    }
   },
   "outputs": [],
   "source": [
    "$ mv jps3d ~/catkin_ws/src\n",
    "$ cd ~/catkin_ws & catkin_make_isolated -DCMAKE_BUILD_TYPE=Release"
   ]
  },
  {
   "cell_type": "markdown",
   "metadata": {},
   "source": [
    "#### CTest\n",
    "Run following command in the `build` folder for testing the executables:"
   ]
  },
  {
   "cell_type": "code",
   "execution_count": null,
   "metadata": {
    "attributes": {
     "classes": [
      "sh"
     ],
     "id": ""
    }
   },
   "outputs": [],
   "source": [
    "$ make test"
   ]
  },
  {
   "cell_type": "markdown",
   "metadata": {},
   "source": [
    "If everything works, you should see the results as:"
   ]
  },
  {
   "cell_type": "code",
   "execution_count": null,
   "metadata": {},
   "outputs": [],
   "source": [
    "Running tests...\n",
    "Test project /home/sikang/cpp_ws/src/jps3d/build\n",
    "    Start 1: test_planner_2d\n",
    "1/2 Test #1: test_planner_2d ..................   Passed    0.98 sec\n",
    "    Start 2: test_planner_3d\n",
    "2/2 Test #2: test_planner_3d ..................   Passed    0.00 sec\n",
    "\n",
    "100% tests passed, 0 tests failed out of 2\n",
    "\n",
    "Total Test time (real) =   0.98 sec"
   ]
  },
  {
   "cell_type": "markdown",
   "metadata": {},
   "source": [
    "#### Include in other projects\n",
    "Note that in other repository, add following commands in `CMakeLists.txt` in order to correctly link `jps3d`:"
   ]
  },
  {
   "cell_type": "code",
   "execution_count": null,
   "metadata": {
    "attributes": {
     "classes": [
      "sh"
     ],
     "id": ""
    }
   },
   "outputs": [],
   "source": [
    "find_package(jps3d REQUIRED)\n",
    "include_directories(${JPS3D_INCLUDE_DIRS})\n",
    "...\n",
    "add_executable(test_xxx src/test_xxx.cpp)\n",
    "target_link_libraries(test_xxx ${JPS3D_LIBRARIES})\n",
    "``` \n",
    "\n",
    "Two libs will be installed in the system: the standard `jps_lib` and a faster implementation `nx_jps_lib` written by [\"Nikolay Anatasov\"](https://natanaso.github.io/). The latter one only supports 3D.\n",
    "\n",
    "## Usage\n",
    "There are three steps to start a planning thread:\n",
    "```c++\n",
    "std::unique_ptr<PlannerBase> planner(new XXXUtil(false)); // Declare a XXX planner\n",
    "planner->setMapUtil(MAP_UTIL_PTR); // Set collision checking function\n",
    "planner->updateMap(); // Set map, must be called before plan\n",
    "bool valid_jps = planner->plan(start, goal, 1, true); // Plan from start to goal with heuristic weight 1, using JPS\n",
    "bool valid_astar = planner->plan(start, goal, 1, false); // Plan from start to goal with heuristic weight 1, using A*"
   ]
  },
  {
   "cell_type": "markdown",
   "metadata": {},
   "source": [
    "First, the collision checking util must be loaded as:"
   ]
  },
  {
   "cell_type": "code",
   "execution_count": null,
   "metadata": {
    "attributes": {
     "classes": [
      "c++"
     ],
     "id": ""
    }
   },
   "outputs": [],
   "source": [
    "planner->setMapUtil(MAP_UTIL_PTR); // Set collision checking function"
   ]
  },
  {
   "cell_type": "markdown",
   "metadata": {},
   "source": [
    "The `MAP_UTIL_PTR` can be either `OCCMapUtil` for 2D or `VoxelMapUtil` for 3D. It can be confusing to set up this util, see the example code for more details.\n",
    "\n",
    "Second, call the function `updateMap()` to allocate the internal map:"
   ]
  },
  {
   "cell_type": "code",
   "execution_count": null,
   "metadata": {},
   "outputs": [],
   "source": [
    "planner->updateMap(); // Set map, must be called before plan"
   ]
  },
  {
   "cell_type": "markdown",
   "metadata": {},
   "source": [
    "Finally, call the function `plan` to plan a path from `start` to `goal`. The third input is the heuristic weight, the forth input indicates whether planning with `JPS` or `A*`.\n",
    "\n",
    "Two XXXUtil planners are provided:\n",
    " - ```GraphSearch2DUtil```\n",
    " - ```GraphSearch3DUtil```\n",
    "\n",
    "## Example\n",
    "An example in 2D map is given in `test/test_planner_2d.cpp`, in which we plan from start to goal using both ```A*``` and ```JPS```. \n",
    "The results are plotted in [corridor.png](https://github.com/sikang/jps3d/blob/master/data/corridor.png).\n",
    "Green path is from ```A*```, red path is from ```JPS```.\n",
    "\n",
    "![Visualization](./data/corridor.png)"
   ]
  },
  {
   "cell_type": "code",
   "execution_count": null,
   "metadata": {
    "attributes": {
     "classes": [
      "sh"
     ],
     "id": ""
    }
   },
   "outputs": [],
   "source": [
    "$ ./build/test_planner_2d ../data/corridor.yaml\n",
    "start: 2.5  -2\n",
    "goal:  35 2.5\n",
    "origin:  0 -5\n",
    "dim: 799 199\n",
    "resolution: 0.05\n",
    "JPS Planner takes: 5.000000 ms\n",
    "JPS Path Distance: 35.109545\n",
    "JPS Planner takes: 5.000000 ms\n",
    "AStar Planner takes: 62.000000 ms\n",
    "AStar Path Distance: 35.109545"
   ]
  },
  {
   "cell_type": "markdown",
   "metadata": {},
   "source": [
    "An example in 3D map is presented in `test/test_planner_3d` with the yaml `data/simple3d.yaml`.\n",
    "\n",
    "To generate map in `yaml` format which can be loaded directly in the test node, a simple executable file `test/create_map.cpp` is used. User can easily change the location of blocks in the source code.\n",
    "\n",
    "## Doxygen\n",
    "For more details, please refer to [Doxygen](https://sikang.github.io/jps3d).\n",
    "\n",
    "## Run in Docker"
   ]
  },
  {
   "cell_type": "code",
   "execution_count": null,
   "metadata": {},
   "outputs": [],
   "source": [
    "$ docker run -it --rm icra2017/jps3d /bin/bash\n",
    "root@14d395347ffb:/# cd jps3d\n",
    "root@14d395347ffb:/jps3d# ./build/test_planner_2d ./data/corridor.yaml\n",
    "start: 2.5 -2\n",
    "goal:  35 2.5\n",
    "origin:  0 -5\n",
    "dim: 799 199\n",
    "resolution: 0.05\n",
    "JPS Planner takes: 4.000000 ms\n",
    "JPS Path Distance: 35.109545\n",
    "JPS Planner takes: 4.000000 ms\n",
    "AStar Planner takes: 63.000000 ms\n",
    "AStar Path Distance: 35.109545"
   ]
  }
 ],
 "metadata": {},
 "nbformat": 4,
 "nbformat_minor": 0
}
